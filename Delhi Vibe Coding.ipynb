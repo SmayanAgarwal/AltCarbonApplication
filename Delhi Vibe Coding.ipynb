{
 "cells": [
  {
   "cell_type": "code",
   "execution_count": 4,
   "id": "b0c49770",
   "metadata": {},
   "outputs": [
    {
     "name": "stdout",
     "output_type": "stream",
     "text": [
      "File saved as Delhi_Places_with_Coordinates_Final.csv\n"
     ]
    }
   ],
   "source": [
    "import pandas as pd\n",
    "from geopy.geocoders import Nominatim\n",
    "import time\n",
    "\n",
    "# Load your file (edit the filename if different)\n",
    "df = pd.read_csv(\"Delhi_Places_with_Vibes_and_Regions.csv\")\n",
    "\n",
    "# Initialize geolocator\n",
    "geolocator = Nominatim(user_agent=\"delhi-vibe-map\")\n",
    "\n",
    "# Define a function to fetch lat/lng\n",
    "def get_coords(place):\n",
    "    try:\n",
    "        location = geolocator.geocode(f\"{place}, Delhi, India\")\n",
    "        time.sleep(1)  # Respect Nominatim's rate limit\n",
    "        return pd.Series([location.latitude, location.longitude]) if location else pd.Series([None, None])\n",
    "    except:\n",
    "        return pd.Series([None, None])\n",
    "\n",
    "# Apply the function\n",
    "df[['Latitude', 'Longitude']] = df['Place'].apply(get_coords)\n",
    "\n",
    "# Save the updated CSV\n",
    "df.to_csv(\"Delhi_Places_with_Coordinates_Final.csv\", index=False)\n",
    "print(\"File saved as Delhi_Places_with_Coordinates_Final.csv\")\n"
   ]
  },
  {
   "cell_type": "code",
   "execution_count": null,
   "id": "4c92d2e6",
   "metadata": {},
   "outputs": [
    {
     "ename": "ModuleNotFoundError",
     "evalue": "No module named 'seaborn'",
     "output_type": "error",
     "traceback": [
      "\u001b[0;31m---------------------------------------------------------------------------\u001b[0m",
      "\u001b[0;31mModuleNotFoundError\u001b[0m                       Traceback (most recent call last)",
      "Cell \u001b[0;32mIn[1], line 7\u001b[0m\n\u001b[1;32m      5\u001b[0m \u001b[38;5;28;01mfrom\u001b[39;00m \u001b[38;5;21;01msklearn\u001b[39;00m\u001b[38;5;21;01m.\u001b[39;00m\u001b[38;5;21;01mmetrics\u001b[39;00m \u001b[38;5;28;01mimport\u001b[39;00m classification_report, confusion_matrix\n\u001b[1;32m      6\u001b[0m \u001b[38;5;28;01mimport\u001b[39;00m \u001b[38;5;21;01mmatplotlib\u001b[39;00m\u001b[38;5;21;01m.\u001b[39;00m\u001b[38;5;21;01mpyplot\u001b[39;00m \u001b[38;5;28;01mas\u001b[39;00m \u001b[38;5;21;01mplt\u001b[39;00m\n\u001b[0;32m----> 7\u001b[0m \u001b[38;5;28;01mimport\u001b[39;00m \u001b[38;5;21;01mseaborn\u001b[39;00m \u001b[38;5;28;01mas\u001b[39;00m \u001b[38;5;21;01msns\u001b[39;00m\n\u001b[1;32m      9\u001b[0m \u001b[38;5;66;03m# 1. Load your dataset\u001b[39;00m\n\u001b[1;32m     10\u001b[0m df \u001b[38;5;241m=\u001b[39m pd\u001b[38;5;241m.\u001b[39mread_csv(\u001b[38;5;124m'\u001b[39m\u001b[38;5;124myour_data.csv\u001b[39m\u001b[38;5;124m'\u001b[39m)  \u001b[38;5;66;03m# Replace with your actual file name\u001b[39;00m\n",
      "\u001b[0;31mModuleNotFoundError\u001b[0m: No module named 'seaborn'"
     ]
    }
   ],
   "source": [
    "import pandas as pd\n",
    "from sklearn.model_selection import train_test_split\n",
    "from sklearn.ensemble import RandomForestClassifier\n",
    "from sklearn.preprocessing import LabelEncoder, StandardScaler\n",
    "from sklearn.metrics import classification_report, confusion_matrix\n",
    "import matplotlib.pyplot as plt\n",
    "# import seaborn as sns\n",
    "\n",
    "# 1. Load your dataset\n",
    "df = pd.read_csv('your_data.csv')  # Replace with your actual file name\n",
    "\n",
    "# 2. Encode the target variable\n",
    "label_encoder = LabelEncoder()\n",
    "df['Vibe_Label'] = label_encoder.fit_transform(df['Vibe'])\n",
    "\n",
    "# 3. Select features\n",
    "features = [\n",
    "    'Distance to Nearest Metro Station',\n",
    "    'Eateries Within 1KM',\n",
    "    'Metro Stations Within 1KM',\n",
    "    'Forest Cover',\n",
    "    'School Quality'\n",
    "]\n",
    "\n",
    "# Optional: Add 'Location' (categorical) as features\n",
    "df = pd.get_dummies(df, columns=['Location'], drop_first=True)\n",
    "features += [col for col in df.columns if col.startswith('Location_')]\n",
    "\n",
    "# 4. Define X and y\n",
    "X = df[features]\n",
    "y = df['Vibe_Label']\n",
    "\n",
    "# 5. Split into train/test sets\n",
    "X_train, X_test, y_train, y_test = train_test_split(X, y, test_size=0.2, random_state=42)\n",
    "\n",
    "# 6. Scale the features (optional for RF, useful for consistency)\n",
    "scaler = StandardScaler()\n",
    "X_train_scaled = scaler.fit_transform(X_train)\n",
    "X_test_scaled = scaler.transform(X_test)\n",
    "\n",
    "# 7. Train Random Forest\n",
    "rf = RandomForestClassifier(n_estimators=100, random_state=42)\n",
    "rf.fit(X_train_scaled, y_train)\n",
    "\n",
    "# 8. Evaluate\n",
    "y_pred = rf.predict(X_test_scaled)\n",
    "print(\"Classification Report:\\n\", classification_report(y_test, y_pred, target_names=label_encoder.classes_))\n",
    "print(\"Confusion Matrix:\\n\", confusion_matrix(y_test, y_pred))\n",
    "\n",
    "# 9. Feature importance\n",
    "importances = rf.feature_importances_\n",
    "feature_names = X.columns\n",
    "importance_df = pd.DataFrame({'Feature': feature_names, 'Importance': importances})\n",
    "importance_df = importance_df.sort_values('Importance', ascending=False)\n",
    "\n",
    "# 10. Plot feature importance\n",
    "plt.figure(figsize=(10, 6))\n",
    "# sns.barplot(data=importance_df, x='Importance', y='Feature')\n",
    "plt.title('Feature Importance in Random Forest')\n",
    "plt.tight_layout()\n",
    "plt.show()\n"
   ]
  },
  {
   "cell_type": "code",
   "execution_count": null,
   "id": "5693f1f6",
   "metadata": {},
   "outputs": [],
   "source": []
  }
 ],
 "metadata": {
  "kernelspec": {
   "display_name": "segmentation",
   "language": "python",
   "name": "python3"
  },
  "language_info": {
   "codemirror_mode": {
    "name": "ipython",
    "version": 3
   },
   "file_extension": ".py",
   "mimetype": "text/x-python",
   "name": "python",
   "nbconvert_exporter": "python",
   "pygments_lexer": "ipython3",
   "version": "3.12.8"
  }
 },
 "nbformat": 4,
 "nbformat_minor": 5
}
